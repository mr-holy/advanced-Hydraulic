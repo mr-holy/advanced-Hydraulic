{
 "cells": [
  {
   "cell_type": "code",
   "execution_count": 2,
   "metadata": {},
   "outputs": [],
   "source": [
    "V = 9 #m/s\n",
    "Y = 3 #m\n",
    "# فرض : کانال عریض\n",
    "g = 9.81 #m^2/s"
   ]
  },
  {
   "cell_type": "code",
   "execution_count": 5,
   "metadata": {},
   "outputs": [
    {
     "name": "stdout",
     "output_type": "stream",
     "text": [
      "bed form is:\n",
      "Antidunes bed\n",
      "در جهت مخالف جریان و بالادست\n"
     ]
    }
   ],
   "source": [
    "# محاسبه عدد فرود\n",
    "from math import sqrt\n",
    "Fr = V / sqrt(Y * g)\n",
    "print(\"bed form is:\")\n",
    "if Fr < 0.1:\n",
    "    print(\"Ripples bed\")\n",
    "elif Fr < 1 and Fr > 0.1:\n",
    "    print(\"Dunes bed\")\n",
    "elif Fr > 1:\n",
    "    print(\"Antidunes bed\")\n",
    "    print(\"در جهت مخالف جریان و بالادست\")"
   ]
  }
 ],
 "metadata": {
  "interpreter": {
   "hash": "b2a2e68be2af70e6366c763c33adac6ff53f752fbf5b2177a3e4f0f141092b40"
  },
  "kernelspec": {
   "display_name": "Python 3 (ipykernel)",
   "language": "python",
   "name": "python3"
  },
  "language_info": {
   "codemirror_mode": {
    "name": "ipython",
    "version": 3
   },
   "file_extension": ".py",
   "mimetype": "text/x-python",
   "name": "python",
   "nbconvert_exporter": "python",
   "pygments_lexer": "ipython3",
   "version": "3.10.0"
  }
 },
 "nbformat": 4,
 "nbformat_minor": 2
}
