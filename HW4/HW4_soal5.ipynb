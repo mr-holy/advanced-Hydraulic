{
 "cells": [
  {
   "cell_type": "markdown",
   "metadata": {},
   "source": [
    "# prove it:\n",
    "# $ g\\frac{dq}{dt} = 2C(V+C)\\frac{dC}{dt} $"
   ]
  },
  {
   "cell_type": "markdown",
   "metadata": {},
   "source": [
    "## $ C = \\sqrt{gy} = \\sqrt{V} $ "
   ]
  },
  {
   "cell_type": "markdown",
   "metadata": {},
   "source": [
    "## $2\\sqrt{gy}(V + \\sqrt{gy})\\frac{d(\\sqrt{gy})}{dt}$"
   ]
  },
  {
   "cell_type": "markdown",
   "metadata": {},
   "source": [
    "## $2\\sqrt{V}(V + \\sqrt{V})\\frac{d(\\sqrt{V})}{dt}$"
   ]
  },
  {
   "cell_type": "markdown",
   "metadata": {},
   "source": [
    "## $2V(\\sqrt{V} + 1)\\frac{d(\\sqrt{V})}{dt}$"
   ]
  },
  {
   "cell_type": "markdown",
   "metadata": {},
   "source": [
    "## $2V(\\sqrt{V} + 1)\\frac{d(\\sqrt{\\frac{q}{y}})}{dt}$"
   ]
  },
  {
   "cell_type": "markdown",
   "metadata": {},
   "source": [
    "## $2V(\\sqrt{V} + 1)\\frac{\\frac{1}{y}d(\\sqrt{q})}{dt}$"
   ]
  },
  {
   "cell_type": "markdown",
   "metadata": {},
   "source": [
    "## $\\frac{2V}{y\\sqrt{q}}(\\sqrt{V} + 1)\\frac{dq}{dt}$"
   ]
  },
  {
   "cell_type": "markdown",
   "metadata": {},
   "source": [
    "## $\\frac{2V}{y\\sqrt{q}}(\\sqrt{\\frac{q}{y}} + 1)\\frac{dq}{dt}$"
   ]
  },
  {
   "cell_type": "markdown",
   "metadata": {},
   "source": [
    "# $ g\\frac{dq}{dt} $"
   ]
  }
 ],
 "metadata": {
  "interpreter": {
   "hash": "b2a2e68be2af70e6366c763c33adac6ff53f752fbf5b2177a3e4f0f141092b40"
  },
  "kernelspec": {
   "display_name": "Python 3 (ipykernel)",
   "language": "python",
   "name": "python3"
  },
  "language_info": {
   "codemirror_mode": {
    "name": "ipython",
    "version": 3
   },
   "file_extension": ".py",
   "mimetype": "text/x-python",
   "name": "python",
   "nbconvert_exporter": "python",
   "pygments_lexer": "ipython3",
   "version": "3.10.0"
  }
 },
 "nbformat": 4,
 "nbformat_minor": 2
}
