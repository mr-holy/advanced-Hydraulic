{
 "cells": [
  {
   "cell_type": "code",
   "execution_count": 16,
   "metadata": {},
   "outputs": [],
   "source": [
    "# لبه آبریز\n",
    "Hd = 30 #m\n",
    "H = 3 #m\n",
    "L = 50 #m\n",
    "D = 1.5 #m\n",
    "N = 4 # tedad dahane\n",
    "#round nose and \n",
    "# گرد گوشه و دماغه گرد\n",
    "Kp = 0.02\n",
    "Ka = 0.1 \n",
    "# اختلاف در تراز آب به ازای دبی سیلاب با حالت فعلی؟\n"
   ]
  },
  {
   "cell_type": "markdown",
   "metadata": {},
   "source": [
    "$L_e = L - 2(NK_p + K_a)H_e$"
   ]
  },
  {
   "cell_type": "code",
   "execution_count": 4,
   "metadata": {},
   "outputs": [
    {
     "name": "stdout",
     "output_type": "stream",
     "text": [
      "L(e) =  48.92\n"
     ]
    }
   ],
   "source": [
    "Le = L - 2 * ((N * Kp) + Ka)* H\n",
    "print(\"L(e) = \", Le)"
   ]
  },
  {
   "cell_type": "markdown",
   "metadata": {},
   "source": [
    "$Q = CLH_d^{1.5}$"
   ]
  },
  {
   "cell_type": "code",
   "execution_count": 19,
   "metadata": {},
   "outputs": [
    {
     "name": "stdout",
     "output_type": "stream",
     "text": [
      "H(d) =  2.95664296792112\n"
     ]
    }
   ],
   "source": [
    "# 50 * Hd**(1.5) = 48.92 * 3 **1.5\n",
    "from sympy import Symbol\n",
    "from sympy.solvers import solve\n",
    "Hd = Symbol(\"Hd\")\n",
    "javab = solve(Hd**1.5 - ((Le * H**1.5)/L), Hd)\n",
    "print(\"H(d) = \", javab[0])"
   ]
  }
 ],
 "metadata": {
  "interpreter": {
   "hash": "b2a2e68be2af70e6366c763c33adac6ff53f752fbf5b2177a3e4f0f141092b40"
  },
  "kernelspec": {
   "display_name": "Python 3 (ipykernel)",
   "language": "python",
   "name": "python3"
  },
  "language_info": {
   "codemirror_mode": {
    "name": "ipython",
    "version": 3
   },
   "file_extension": ".py",
   "mimetype": "text/x-python",
   "name": "python",
   "nbconvert_exporter": "python",
   "pygments_lexer": "ipython3",
   "version": "3.10.0"
  }
 },
 "nbformat": 4,
 "nbformat_minor": 2
}
