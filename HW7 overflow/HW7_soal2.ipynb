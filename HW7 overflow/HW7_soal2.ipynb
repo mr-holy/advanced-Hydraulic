{
 "cells": [
  {
   "cell_type": "code",
   "execution_count": 1,
   "metadata": {},
   "outputs": [],
   "source": [
    "b = 2 #m\n",
    "Q = 2 #m^3/s\n",
    "g = 9.81 "
   ]
  },
  {
   "cell_type": "markdown",
   "metadata": {},
   "source": [
    "$Q = \\frac{2}{3} C_d \\sqrt{2g}LH_d^{1.5} $"
   ]
  },
  {
   "cell_type": "code",
   "execution_count": 3,
   "metadata": {},
   "outputs": [
    {
     "data": {
      "text/plain": [
       "[0.679787234479055,\n",
       " 61.0289706746243,\n",
       " -0.339770188756321 - 0.580037778121979*I,\n",
       " -0.339770188756321 + 0.580037778121979*I]"
      ]
     },
     "execution_count": 3,
     "metadata": {},
     "output_type": "execute_result"
    }
   ],
   "source": [
    "from sympy import Symbol\n",
    "from sympy.solvers import solve\n",
    "Hd = Symbol(\"Hd\")\n",
    "javab = solve(2 - ( (2/3) * (2 * g)**(1/2) * (0.611 - 0.01 * Hd) * 2 * Hd**1.5), Hd)\n",
    "javab"
   ]
  },
  {
   "cell_type": "code",
   "execution_count": 4,
   "metadata": {},
   "outputs": [
    {
     "name": "stdout",
     "output_type": "stream",
     "text": [
      "الف) سرریز لبه تیز صفحه ای با ارتفاع هشت متر\n",
      "H(d) =  0.679787234479055\n"
     ]
    }
   ],
   "source": [
    "print(\"الف) سرریز لبه تیز صفحه ای با ارتفاع هشت متر\")\n",
    "print(\"H(d) = \", javab[0])"
   ]
  },
  {
   "cell_type": "markdown",
   "metadata": {},
   "source": [
    " $\\frac{H_d}{w} < 0.1$ => $C_d = 0.501 \\frac{H_d}{w}^{0.022}$"
   ]
  },
  {
   "cell_type": "code",
   "execution_count": 5,
   "metadata": {},
   "outputs": [
    {
     "data": {
      "text/plain": [
       "[0.796701566477381]"
      ]
     },
     "execution_count": 5,
     "metadata": {},
     "output_type": "execute_result"
    }
   ],
   "source": [
    "javab = solve(2 - ( (2/3) * (2 * g)**(1/2) * (0.501 * (Hd / 8) **(0.022)) * 2 * Hd**1.5), Hd)\n",
    "javab"
   ]
  },
  {
   "cell_type": "code",
   "execution_count": 7,
   "metadata": {},
   "outputs": [
    {
     "name": "stdout",
     "output_type": "stream",
     "text": [
      "ب) سرریز لبه پهن به ارتفاع هشت متر و عرض یک متر\n",
      "H(d) =  0.796701566477381\n"
     ]
    }
   ],
   "source": [
    "print('ب) سرریز لبه پهن به ارتفاع هشت متر و عرض یک متر')\n",
    "print(\"H(d) = \", javab[0])"
   ]
  },
  {
   "cell_type": "markdown",
   "metadata": {},
   "source": [
    "### افزایش ارتفاع در حالت دوم بیشتر است."
   ]
  }
 ],
 "metadata": {
  "interpreter": {
   "hash": "b2a2e68be2af70e6366c763c33adac6ff53f752fbf5b2177a3e4f0f141092b40"
  },
  "kernelspec": {
   "display_name": "Python 3 (ipykernel)",
   "language": "python",
   "name": "python3"
  },
  "language_info": {
   "codemirror_mode": {
    "name": "ipython",
    "version": 3
   },
   "file_extension": ".py",
   "mimetype": "text/x-python",
   "name": "python",
   "nbconvert_exporter": "python",
   "pygments_lexer": "ipython3",
   "version": "3.10.0"
  }
 },
 "nbformat": 4,
 "nbformat_minor": 2
}
