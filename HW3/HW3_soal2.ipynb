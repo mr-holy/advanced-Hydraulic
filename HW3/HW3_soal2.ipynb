{
 "cells": [
  {
   "cell_type": "code",
   "execution_count": 19,
   "metadata": {},
   "outputs": [
    {
     "data": {
      "text/plain": [
       "(1.6666666666666665, 1.8)"
      ]
     },
     "execution_count": 19,
     "metadata": {},
     "output_type": "execute_result"
    }
   ],
   "source": [
    "b = 2 #m\n",
    "Q = 3 #m^3/s\n",
    "y = 0.9 #map\n",
    "qstar = -0.3 #m^3/s\n",
    "yquit = W =  0.65 #m\n",
    "V = Q / (b * y)\n",
    "A = b * y\n",
    "#lenght of sarriz & canel\n",
    "S0 = SF = 0\n",
    "alpha = 0\n",
    "g = 9.81\n",
    "V , A"
   ]
  },
  {
   "cell_type": "code",
   "execution_count": 6,
   "metadata": {},
   "outputs": [
    {
     "data": {
      "text/plain": [
       "0.6121217862538432"
      ]
     },
     "execution_count": 6,
     "metadata": {},
     "output_type": "execute_result"
    }
   ],
   "source": [
    "yc1 = (3**2 / (2**2 * 9.81))**(1/3)\n",
    "yc1"
   ]
  },
  {
   "cell_type": "code",
   "execution_count": 7,
   "metadata": {},
   "outputs": [
    {
     "name": "stdout",
     "output_type": "stream",
     "text": [
      "channeltype = Miled\n",
      "halate avval\n"
     ]
    }
   ],
   "source": [
    "if y > yc1:\n",
    "    channeltype = 'Miled'\n",
    "elif yc1 > y:\n",
    "    channeltype = 'Steep'\n",
    "else:\n",
    "    print('S0 == Sc')\n",
    "print(\"channeltype = %s\"%channeltype)\n",
    "if channeltype == 'Miled':\n",
    "    if W>yc1:\n",
    "        print('halate avval')\n",
    "    else:\n",
    "        print(\"halate dovom\")\n",
    "elif channeltype == 'Steep':\n",
    "    print('halate sevvom')"
   ]
  },
  {
   "cell_type": "code",
   "execution_count": 14,
   "metadata": {},
   "outputs": [
    {
     "name": "stdout",
     "output_type": "stream",
     "text": [
      "Zire bohrani\n",
      "adad forood = 0.560910 \n"
     ]
    },
    {
     "data": {
      "text/plain": [
       "0.47019951126964427"
      ]
     },
     "execution_count": 14,
     "metadata": {},
     "output_type": "execute_result"
    }
   ],
   "source": [
    "Fr1 = V / (g * y)**(1/2)\n",
    "if Fr1 < 1:\n",
    "    print(\"Zire bohrani\")\n",
    "else:\n",
    "    print(\"foghe bohrani\")\n",
    "print(\"adad forood = %f \"%Fr1)\n",
    "#mohasebe Cm:\n",
    "F = Fr1 ** 2\n",
    "Cm = 0.611 * (1 - ((3 * F) / ((F + 2))))** (1/2)\n",
    "Cm"
   ]
  },
  {
   "cell_type": "code",
   "execution_count": 17,
   "metadata": {},
   "outputs": [
    {
     "data": {
      "text/plain": [
       "0.17356031467261296"
      ]
     },
     "execution_count": 17,
     "metadata": {},
     "output_type": "execute_result"
    }
   ],
   "source": [
    "dQdx = (2/3) * Cm * ((2*g)**(1/2)) * ((y - W)**(3/2))\n",
    "dQdx"
   ]
  },
  {
   "cell_type": "code",
   "execution_count": 18,
   "metadata": {},
   "outputs": [
    {
     "name": "stdout",
     "output_type": "stream",
     "text": [
      "toole sar riz = 1.728506\n"
     ]
    }
   ],
   "source": [
    "L = abs(qstar) / dQdx\n",
    "print(\"toole sar riz = %f\"%L)"
   ]
  },
  {
   "cell_type": "code",
   "execution_count": 21,
   "metadata": {},
   "outputs": [
    {
     "data": {
      "text/plain": [
       "1.62"
      ]
     },
     "execution_count": 21,
     "metadata": {},
     "output_type": "execute_result"
    }
   ],
   "source": [
    "A2 = A - (abs(qstar)/V)\n",
    "A2"
   ]
  },
  {
   "cell_type": "code",
   "execution_count": 24,
   "metadata": {},
   "outputs": [
    {
     "name": "stdout",
     "output_type": "stream",
     "text": [
      "arz = 0.100000\n"
     ]
    }
   ],
   "source": [
    "#kaheshe arze channel:\n",
    "y1 = y2 = 0.9\n",
    "b2 = A2 / y2\n",
    "deltab = b - b2\n",
    "b2vom = deltab/2\n",
    "print(\"arz = %f\"%b2vom)"
   ]
  },
  {
   "cell_type": "code",
   "execution_count": 25,
   "metadata": {},
   "outputs": [
    {
     "name": "stdout",
     "output_type": "stream",
     "text": [
      "ertefa = 0.090000\n"
     ]
    }
   ],
   "source": [
    "#bala amadane kaf:\n",
    "b1 = b2 = 2 \n",
    "y2 = A2 / b2\n",
    "deltay = y - y2\n",
    "print(\"ertefa = %f\"%deltay)"
   ]
  }
 ],
 "metadata": {
  "interpreter": {
   "hash": "b2a2e68be2af70e6366c763c33adac6ff53f752fbf5b2177a3e4f0f141092b40"
  },
  "kernelspec": {
   "display_name": "Python 3.10.0 64-bit",
   "language": "python",
   "name": "python3"
  },
  "language_info": {
   "codemirror_mode": {
    "name": "ipython",
    "version": 3
   },
   "file_extension": ".py",
   "mimetype": "text/x-python",
   "name": "python",
   "nbconvert_exporter": "python",
   "pygments_lexer": "ipython3",
   "version": "3.10.0"
  },
  "orig_nbformat": 4
 },
 "nbformat": 4,
 "nbformat_minor": 2
}
