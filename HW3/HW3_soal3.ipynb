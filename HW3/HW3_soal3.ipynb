{
 "cells": [
  {
   "cell_type": "markdown",
   "metadata": {},
   "source": [
    "# De marchi"
   ]
  },
  {
   "cell_type": "code",
   "execution_count": 45,
   "metadata": {},
   "outputs": [
    {
     "data": {
      "text/plain": [
       "21.875"
      ]
     },
     "execution_count": 45,
     "metadata": {},
     "output_type": "execute_result"
    }
   ],
   "source": [
    "n = 0.013\n",
    "b = 2 #m\n",
    "v = 8.75 #m/s\n",
    "y = 1.25 #m\n",
    "Q = y * b * v\n",
    "W = 0.75 #m\n",
    "Qout = 1.875 #m^3/s\n",
    "#Lout = ?\n",
    "A = b * y\n",
    "Q"
   ]
  },
  {
   "cell_type": "code",
   "execution_count": 46,
   "metadata": {},
   "outputs": [
    {
     "name": "stdout",
     "output_type": "stream",
     "text": [
      "S0 equel to 0.028331\n",
      "Sc equel to 0.001256\n",
      "yc equel to 2.301737\n",
      "channeltype = Steep\n",
      "halate sevvom\n"
     ]
    }
   ],
   "source": [
    "R = (b*y) / ((2*y) + b)\n",
    "S0 = ( (n * v) / (R**(2/3)) )**2\n",
    "print(\"S0 equel to %f\"%S0)\n",
    "q = Q / b\n",
    "g = 9.81\n",
    "yc = ((q**2) / g)**(1/3)\n",
    "Sc = ((n**2) * g) / (yc**(1/3))\n",
    "print(\"Sc equel to %f\"%Sc)\n",
    "print(\"yc equel to %f\"%yc)\n",
    "Channeltype = 'none'\n",
    "if y > yc:\n",
    "    channeltype = 'Miled'\n",
    "elif yc > y:\n",
    "    channeltype = 'Steep'\n",
    "else:\n",
    "    print('S0 == Sc')\n",
    "print(\"channeltype = %s\"%channeltype)\n",
    "if channeltype == 'Miled':\n",
    "    if W>yc:\n",
    "        print('halate avval')\n",
    "    else:\n",
    "        print(\"halate dovom\")\n",
    "elif channeltype == 'Steep':\n",
    "    print('halate sevvom')\n"
   ]
  },
  {
   "cell_type": "code",
   "execution_count": 47,
   "metadata": {},
   "outputs": [
    {
     "data": {
      "text/plain": [
       "0.16010196279021097"
      ]
     },
     "execution_count": 47,
     "metadata": {},
     "output_type": "execute_result"
    }
   ],
   "source": [
    "#calculate Cm\n",
    "Fr1 = v / ((g * y)**(1/2))\n",
    "if Fr1 > 2:\n",
    "    Cm = 0.36 - (0.08 * Fr1)\n",
    "Cm"
   ]
  },
  {
   "cell_type": "code",
   "execution_count": 48,
   "metadata": {},
   "outputs": [
    {
     "data": {
      "text/plain": [
       "20.0"
      ]
     },
     "execution_count": 48,
     "metadata": {},
     "output_type": "execute_result"
    }
   ],
   "source": [
    "Q2 = Q - 1.875\n",
    "Q2"
   ]
  },
  {
   "cell_type": "code",
   "execution_count": 49,
   "metadata": {},
   "outputs": [
    {
     "name": "stdout",
     "output_type": "stream",
     "text": [
      "E1 = 5.152268\n"
     ]
    }
   ],
   "source": [
    "E1 = y + (Q**2 / (2 * g * A**2))\n",
    "print(\"E1 = %f\"%E1)"
   ]
  },
  {
   "cell_type": "code",
   "execution_count": 53,
   "metadata": {},
   "outputs": [],
   "source": [
    "from sympy import solve\n",
    "from sympy import Symbol\n",
    "y2 = Symbol(\"y\")\n",
    "y2 = solve(y + (20**2 / (8 * 9.81 * ((y)**2))) - E1, y)\n",
    "y2 = 1.125 #m"
   ]
  },
  {
   "cell_type": "code",
   "execution_count": 58,
   "metadata": {},
   "outputs": [
    {
     "name": "stdout",
     "output_type": "stream",
     "text": [
      "L is 13.908000 meter\n"
     ]
    }
   ],
   "source": [
    "import math\n",
    "sin1 = math.asin(math.sqrt((5.152 - 1.25) / (5.152 - 0.75)))\n",
    "sin1\n",
    "x1 = 26.813\n",
    "x2 = 40.721\n",
    "L = x2 - x1\n",
    "print(\"L is %f meter\"%L)"
   ]
  }
 ],
 "metadata": {
  "interpreter": {
   "hash": "b2a2e68be2af70e6366c763c33adac6ff53f752fbf5b2177a3e4f0f141092b40"
  },
  "kernelspec": {
   "display_name": "Python 3.10.0 64-bit",
   "language": "python",
   "name": "python3"
  },
  "language_info": {
   "codemirror_mode": {
    "name": "ipython",
    "version": 3
   },
   "file_extension": ".py",
   "mimetype": "text/x-python",
   "name": "python",
   "nbconvert_exporter": "python",
   "pygments_lexer": "ipython3",
   "version": "3.10.0"
  },
  "orig_nbformat": 4
 },
 "nbformat": 4,
 "nbformat_minor": 2
}
