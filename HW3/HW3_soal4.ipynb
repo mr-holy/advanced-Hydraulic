{
 "cells": [
  {
   "cell_type": "code",
   "execution_count": 4,
   "metadata": {},
   "outputs": [
    {
     "name": "stdout",
     "output_type": "stream",
     "text": [
      "zire bohrani\n",
      "fogh bohrani\n"
     ]
    }
   ],
   "source": [
    "b = 2 #m\n",
    "Q = 3.5 #m^3/s\n",
    "#V = 1.75 / y1\n",
    "Fr = 0.3\n",
    "#kefe moshabak: fogh bohrani\n",
    "Nbar = 16; Lbar = 2 #m\n",
    "e = 0.2\n",
    "# Qout = ?\n",
    "if Fr < 1:\n",
    "    print('zire bohrani')\n",
    "else:\n",
    "    print(\"fogh bohrani\")\n",
    "#bade kafe moshabak: \n",
    "print('fogh bohrani')"
   ]
  },
  {
   "cell_type": "code",
   "execution_count": 7,
   "metadata": {},
   "outputs": [
    {
     "data": {
      "text/plain": [
       "1.5137524539370428"
      ]
     },
     "execution_count": 7,
     "metadata": {},
     "output_type": "execute_result"
    }
   ],
   "source": [
    "from sympy.solvers import solve\n",
    "from sympy import Symbol\n",
    "y = Symbol(\"y\")\n",
    "y = solve(((1.75/y) / ((9.81 * y)**(0.5))) - 0.3 , y)\n",
    "y = float(y[0])\n",
    "y"
   ]
  },
  {
   "cell_type": "code",
   "execution_count": 8,
   "metadata": {},
   "outputs": [
    {
     "data": {
      "text/plain": [
       "1.1560674900631955"
      ]
     },
     "execution_count": 8,
     "metadata": {},
     "output_type": "execute_result"
    }
   ],
   "source": [
    "V = Q / (b*y)\n",
    "V"
   ]
  },
  {
   "cell_type": "code",
   "execution_count": 10,
   "metadata": {},
   "outputs": [
    {
     "data": {
      "text/plain": [
       "0.6783737432186022"
      ]
     },
     "execution_count": 10,
     "metadata": {},
     "output_type": "execute_result"
    }
   ],
   "source": [
    "yc = (Q**2 / (b**2 * 9.81))**(1/3)\n",
    "yc"
   ]
  },
  {
   "cell_type": "code",
   "execution_count": 12,
   "metadata": {},
   "outputs": [
    {
     "data": {
      "text/plain": [
       "1.0175606148279033"
      ]
     },
     "execution_count": 12,
     "metadata": {},
     "output_type": "execute_result"
    }
   ],
   "source": [
    "Ec = 3/2 * yc\n",
    "Ec"
   ]
  },
  {
   "cell_type": "code",
   "execution_count": 13,
   "metadata": {},
   "outputs": [
    {
     "data": {
      "text/plain": [
       "0.5719257043390671"
      ]
     },
     "execution_count": 13,
     "metadata": {},
     "output_type": "execute_result"
    }
   ],
   "source": [
    "c1 = 0.32\n",
    "epsilon = 0.2\n",
    "dQdx = c1 * epsilon * b * ((2 * 9.81 * Ec)**(0.5))\n",
    "dQdx"
   ]
  },
  {
   "cell_type": "code",
   "execution_count": 15,
   "metadata": {},
   "outputs": [
    {
     "name": "stdout",
     "output_type": "stream",
     "text": [
      "jaryan khorooji barabare 1.143851 ast.\n"
     ]
    }
   ],
   "source": [
    "Qout = dQdx * 2\n",
    "print('jaryan khorooji barabare %f ast.'%Qout)"
   ]
  }
 ],
 "metadata": {
  "interpreter": {
   "hash": "b2a2e68be2af70e6366c763c33adac6ff53f752fbf5b2177a3e4f0f141092b40"
  },
  "kernelspec": {
   "display_name": "Python 3.10.0 64-bit",
   "language": "python",
   "name": "python3"
  },
  "language_info": {
   "codemirror_mode": {
    "name": "ipython",
    "version": 3
   },
   "file_extension": ".py",
   "mimetype": "text/x-python",
   "name": "python",
   "nbconvert_exporter": "python",
   "pygments_lexer": "ipython3",
   "version": "3.10.0"
  },
  "orig_nbformat": 4
 },
 "nbformat": 4,
 "nbformat_minor": 2
}
